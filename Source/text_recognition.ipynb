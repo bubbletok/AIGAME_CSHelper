{
 "cells": [
  {
   "cell_type": "code",
   "execution_count": 1,
   "metadata": {},
   "outputs": [],
   "source": [
    "import pytesseract\n",
    "from PIL import ImageGrab\n",
    "import cv2\n",
    "import numpy as np\n",
    "from IPython.display import clear_output\n",
    "import pyautogui\n",
    "\n",
    "# 실행파일 위치지정\n",
    "pytesseract.pytesseract.tesseract_cmd = \"C:/Program Files/Tesseract-OCR/tesseract.exe\""
   ]
  },
  {
   "cell_type": "code",
   "execution_count": 2,
   "metadata": {},
   "outputs": [
    {
     "name": "stdout",
     "output_type": "stream",
     "text": [
      "500 500 1900 1000\n",
      "============\n",
      "Python\n",
      "\n",
      "Quit\n"
     ]
    }
   ],
   "source": [
    "# 글자 인식하고 싶은 부분의 박스 좌표\n",
    "x1, y1, x2, y2 = 500, 500, 1900, 1000\n",
    "\n",
    "while True:\n",
    "\n",
    "    image = cv2.cvtColor(np.array(ImageGrab.grab(bbox=(x1,y1,x2,y2))), cv2.COLOR_BGR2RGB)\n",
    "    img2char = pytesseract.image_to_string(image)\n",
    "    clear_output()\n",
    "    print(\"============\")\n",
    "    print(img2char) # 박스 이미지 글자 \n",
    "    cv2.imshow(\"image\", image) # 박스 이미지 show\n",
    "    key = cv2.waitKey(3000)\n",
    "    \n",
    "    \n",
    "    if key == ord(\"q\"): # 'q' 입력하면 종료\n",
    "        print(\"Quit\")\n",
    "        break\n",
    "cv2.destroyAllWindows()"
   ]
  }
 ],
 "metadata": {
  "kernelspec": {
   "display_name": "Python 3",
   "language": "python",
   "name": "python3"
  },
  "language_info": {
   "codemirror_mode": {
    "name": "ipython",
    "version": 3
   },
   "file_extension": ".py",
   "mimetype": "text/x-python",
   "name": "python",
   "nbconvert_exporter": "python",
   "pygments_lexer": "ipython3",
   "version": "3.10.10"
  }
 },
 "nbformat": 4,
 "nbformat_minor": 2
}
